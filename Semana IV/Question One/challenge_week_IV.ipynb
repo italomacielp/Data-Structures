{
  "nbformat": 4,
  "nbformat_minor": 0,
  "metadata": {
    "colab": {
      "provenance": []
    },
    "kernelspec": {
      "name": "python3",
      "display_name": "Python 3"
    },
    "language_info": {
      "name": "python"
    }
  },
  "cells": [
    {
      "cell_type": "markdown",
      "source": [
        "<h2> Questão 1 </h1>\n",
        "<p> Implementar a sequência de fibonacci de forma recursiva. Há várias formas de armazenar esses valores associados a um índice: </p>\n",
        "<ul>\n",
        "<li>Dicionário (criaria uma variável global que incrementaria o indice atual e corresponderia a chave a esse índice, e o valor a soma da posição atual com a anterior) </li>\n",
        "<li>Lista (Na minha solução utilizei a lista para armazenar a posições subsequentes)</li>\n",
        "</ul>"
      ],
      "metadata": {
        "id": "T-xlIwgKfbKN"
      }
    },
    {
      "cell_type": "code",
      "execution_count": 89,
      "metadata": {
        "colab": {
          "base_uri": "https://localhost:8080/"
        },
        "id": "PX7nwtMmPm9v",
        "outputId": "5814bec7-6d8a-4c59-a916-4f6c0363d876"
      },
      "outputs": [
        {
          "output_type": "stream",
          "name": "stdout",
          "text": [
            "Looking in indexes: https://pypi.org/simple, https://us-python.pkg.dev/colab-wheels/public/simple/\n",
            "Requirement already satisfied: pytest in /usr/local/lib/python3.9/dist-packages (7.2.2)\n",
            "Requirement already satisfied: pytest-sugar in /usr/local/lib/python3.9/dist-packages (0.9.7)\n",
            "Requirement already satisfied: exceptiongroup>=1.0.0rc8 in /usr/local/lib/python3.9/dist-packages (from pytest) (1.1.1)\n",
            "Requirement already satisfied: iniconfig in /usr/local/lib/python3.9/dist-packages (from pytest) (2.0.0)\n",
            "Requirement already satisfied: tomli>=1.0.0 in /usr/local/lib/python3.9/dist-packages (from pytest) (2.0.1)\n",
            "Requirement already satisfied: pluggy<2.0,>=0.12 in /usr/local/lib/python3.9/dist-packages (from pytest) (1.0.0)\n",
            "Requirement already satisfied: packaging in /usr/local/lib/python3.9/dist-packages (from pytest) (23.0)\n",
            "Requirement already satisfied: attrs>=19.2.0 in /usr/local/lib/python3.9/dist-packages (from pytest) (22.2.0)\n",
            "Requirement already satisfied: termcolor>=2.1.0 in /usr/local/lib/python3.9/dist-packages (from pytest-sugar) (2.2.0)\n"
          ]
        }
      ],
      "source": [
        "!pip install pytest pytest-sugar"
      ]
    },
    {
      "cell_type": "code",
      "source": [
        "%%file nth_fibonacci.py\n",
        "import pytest\n",
        "\n",
        "sequence_fibonacci = [0,1]\n",
        "\n",
        "def getNthFib(n):\n",
        "  \"\"\"\n",
        "  This function returns the nth number in the Fibonacci sequence, \n",
        "  where the first two numbers are 0 and 1, and each subsequent number\n",
        "  is the sum of the two preceding numbers.\n",
        "\n",
        "  Parameters:\n",
        "  n (int): the position of the desired number in the Fibonacci sequence (1-based indexing)\n",
        "\n",
        "  Returns:\n",
        "  int: the nth number in the Fibonacci sequence\n",
        "\n",
        "  Example:\n",
        "  >>> getNthFib(6)\n",
        "  5\n",
        "  \"\"\"\n",
        "  if(n == 1):\n",
        "    return sequence_fibonacci[0]\n",
        "  if(n == 2):\n",
        "    return sequence_fibonacci[1]\n",
        "  if (len(sequence_fibonacci) <= n):\n",
        "    add_current = sequence_fibonacci[len(sequence_fibonacci) - 1] + sequence_fibonacci[len(sequence_fibonacci) - 2]\n",
        "    sequence_fibonacci.append(add_current)\n",
        "    return getNthFib(n)\n",
        "\n",
        "  return sequence_fibonacci[n - 1]\n",
        "\n",
        "\n",
        "@pytest.fixture(scope=\"session\")\n",
        "def data():\n",
        "    \n",
        "    array = [6,1,2,3,4,5,7,8,9,10,11,12,13,14,15,16,17,18]\n",
        "    return array\n",
        "\n",
        "def test_1(data):\n",
        "    \"\"\"\n",
        "    Test evaluation for n = 6\n",
        "    \"\"\"\n",
        "    assert getNthFib(data[0]) == 5\n",
        "\n",
        "def test_2(data):\n",
        "    \"\"\"\n",
        "    Test evaluation for n = 1\n",
        "    \"\"\"\n",
        "    assert getNthFib(data[1]) == 0\n",
        "\n",
        "def test_3(data):\n",
        "    \"\"\"\n",
        "    Test evaluation for n = 2\n",
        "    \"\"\"\n",
        "    assert getNthFib(data[2]) == 1\n",
        "\n",
        "def test_4(data):\n",
        "    \"\"\"\n",
        "    Test evaluation for n = 3\n",
        "    \"\"\"\n",
        "    assert getNthFib(data[3]) == 1\n",
        "\n",
        "def test_5(data):\n",
        "    \"\"\"\n",
        "    Test evaluation for n = 4\n",
        "    \"\"\"\n",
        "    assert getNthFib(data[4]) == 2\n",
        "\n",
        "def test_6(data):\n",
        "    \"\"\"\n",
        "    Test evaluation for n = 5\n",
        "    \"\"\"\n",
        "    assert getNthFib(data[5]) == 3\n",
        "\n",
        "def test_7(data):\n",
        "    \"\"\"\n",
        "    Test evaluation for n = 7\n",
        "    \"\"\"\n",
        "    assert getNthFib(data[6]) == 8\n",
        "\n",
        "def test_8(data):\n",
        "    \"\"\"\n",
        "    Test evaluation for n = 8\n",
        "    \"\"\"\n",
        "    assert getNthFib(data[7]) == 13\n",
        "\n",
        "def test_9(data):\n",
        "    \"\"\"\n",
        "    Test evaluation for n = 9\n",
        "    \"\"\"\n",
        "    assert getNthFib(data[8]) == 21\n",
        "\n",
        "def test_10(data):\n",
        "    \"\"\"\n",
        "    Test evaluation for n = 10\n",
        "    \"\"\"\n",
        "    assert getNthFib(data[9]) == 34\n",
        "\n",
        "def test_11(data):\n",
        "    \"\"\"\n",
        "    Test evaluation for n = 11\n",
        "    \"\"\"\n",
        "    assert getNthFib(data[10]) == 55\n",
        "\n",
        "def test_12(data):\n",
        "    \"\"\"\n",
        "    Test evaluation for n = 12\n",
        "    \"\"\"\n",
        "    assert getNthFib(data[11]) == 89\n",
        "\n",
        "def test_13(data):\n",
        "    \"\"\"\n",
        "    Test evaluation for n = 13\n",
        "    \"\"\"\n",
        "    assert getNthFib(data[12]) == 144\n",
        "\n",
        "def test_14(data):\n",
        "    \"\"\"\n",
        "    Test evaluation for n = 14\n",
        "    \"\"\"\n",
        "    assert getNthFib(data[13]) == 233\n",
        "\n",
        "def test_15(data):\n",
        "    \"\"\"\n",
        "    Test evaluation for n = 15\n",
        "    \"\"\"\n",
        "    assert getNthFib(data[14]) == 377\n",
        "\n",
        "def test_16(data):\n",
        "    \"\"\"\n",
        "    Test evaluation for n = 16\n",
        "    \"\"\"\n",
        "    assert getNthFib(data[15]) == 610\n",
        "\n",
        "def test_17(data):\n",
        "    \"\"\"\n",
        "    Test evaluation for n = 17\n",
        "    \"\"\"\n",
        "    assert getNthFib(data[16]) == 987\n",
        "\n",
        "def test_18(data):\n",
        "    \"\"\"\n",
        "    Test evaluation for n = 18\n",
        "    \"\"\"\n",
        "    assert getNthFib(data[17]) == 1597"
      ],
      "metadata": {
        "colab": {
          "base_uri": "https://localhost:8080/"
        },
        "id": "i_m7LMaQQEaw",
        "outputId": "85cfb2f1-d441-4d90-c5de-88aa79497d21"
      },
      "execution_count": 97,
      "outputs": [
        {
          "output_type": "stream",
          "name": "stdout",
          "text": [
            "Overwriting nth_fibonacci.py\n"
          ]
        }
      ]
    },
    {
      "cell_type": "code",
      "source": [
        "!pytest nth_fibonacci.py -vv"
      ],
      "metadata": {
        "colab": {
          "base_uri": "https://localhost:8080/"
        },
        "id": "WJZpWjNCQGTj",
        "outputId": "ef064bec-b6dc-41c8-a881-ef15d39ccb6c"
      },
      "execution_count": 98,
      "outputs": [
        {
          "output_type": "stream",
          "name": "stdout",
          "text": [
            "\u001b[1mTest session starts (platform: linux, Python 3.9.16, pytest 7.2.2, pytest-sugar 0.9.7)\u001b[0m\n",
            "cachedir: .pytest_cache\n",
            "rootdir: /content\n",
            "plugins: sugar-0.9.7, anyio-3.6.2\n",
            "\u001b[1mcollecting ... \u001b[0m\u001b[1m\rcollected 18 items                                                             \u001b[0m\n",
            "\r\n",
            "\r \u001b[36mnth_fibonacci.py\u001b[0m::test_1\u001b[0m \u001b[32m✓\u001b[0m                                        \u001b[32m6% \u001b[0m\u001b[40m\u001b[32m▋\u001b[0m\u001b[40m\u001b[32m         \u001b[0m\r\n",
            "\r \u001b[36mnth_fibonacci.py\u001b[0m::test_2\u001b[0m \u001b[32m✓\u001b[0m                                       \u001b[32m11% \u001b[0m\u001b[40m\u001b[32m█\u001b[0m\u001b[40m\u001b[32m▎        \u001b[0m\r\n",
            "\r \u001b[36mnth_fibonacci.py\u001b[0m::test_3\u001b[0m \u001b[32m✓\u001b[0m                                       \u001b[32m17% \u001b[0m\u001b[40m\u001b[32m█\u001b[0m\u001b[40m\u001b[32m▋\u001b[0m\u001b[40m\u001b[32m        \u001b[0m\r\n",
            "\r \u001b[36mnth_fibonacci.py\u001b[0m::test_4\u001b[0m \u001b[32m✓\u001b[0m                                       \u001b[32m22% \u001b[0m\u001b[40m\u001b[32m█\u001b[0m\u001b[40m\u001b[32m█\u001b[0m\u001b[40m\u001b[32m▎       \u001b[0m\r\n",
            "\r \u001b[36mnth_fibonacci.py\u001b[0m::test_5\u001b[0m \u001b[32m✓\u001b[0m                                       \u001b[32m28% \u001b[0m\u001b[40m\u001b[32m█\u001b[0m\u001b[40m\u001b[32m█\u001b[0m\u001b[40m\u001b[32m▊\u001b[0m\u001b[40m\u001b[32m       \u001b[0m\r\n",
            "\r \u001b[36mnth_fibonacci.py\u001b[0m::test_6\u001b[0m \u001b[32m✓\u001b[0m                                       \u001b[32m33% \u001b[0m\u001b[40m\u001b[32m█\u001b[0m\u001b[40m\u001b[32m█\u001b[0m\u001b[40m\u001b[32m█\u001b[0m\u001b[40m\u001b[32m▍      \u001b[0m\r\n",
            "\r \u001b[36mnth_fibonacci.py\u001b[0m::test_7\u001b[0m \u001b[32m✓\u001b[0m                                       \u001b[32m39% \u001b[0m\u001b[40m\u001b[32m█\u001b[0m\u001b[40m\u001b[32m█\u001b[0m\u001b[40m\u001b[32m█\u001b[0m\u001b[40m\u001b[32m▉\u001b[0m\u001b[40m\u001b[32m      \u001b[0m\r\n",
            "\r \u001b[36mnth_fibonacci.py\u001b[0m::test_8\u001b[0m \u001b[32m✓\u001b[0m                                       \u001b[32m44% \u001b[0m\u001b[40m\u001b[32m█\u001b[0m\u001b[40m\u001b[32m█\u001b[0m\u001b[40m\u001b[32m█\u001b[0m\u001b[40m\u001b[32m█\u001b[0m\u001b[40m\u001b[32m▌     \u001b[0m\r\n",
            "\r \u001b[36mnth_fibonacci.py\u001b[0m::test_9\u001b[0m \u001b[32m✓\u001b[0m                                       \u001b[32m50% \u001b[0m\u001b[40m\u001b[32m█\u001b[0m\u001b[40m\u001b[32m█\u001b[0m\u001b[40m\u001b[32m█\u001b[0m\u001b[40m\u001b[32m█\u001b[0m\u001b[40m\u001b[32m█\u001b[0m\u001b[40m\u001b[32m     \u001b[0m\r\n",
            "\r \u001b[36mnth_fibonacci.py\u001b[0m::test_10\u001b[0m \u001b[32m✓\u001b[0m                                      \u001b[32m56% \u001b[0m\u001b[40m\u001b[32m█\u001b[0m\u001b[40m\u001b[32m█\u001b[0m\u001b[40m\u001b[32m█\u001b[0m\u001b[40m\u001b[32m█\u001b[0m\u001b[40m\u001b[32m█\u001b[0m\u001b[40m\u001b[32m▋\u001b[0m\u001b[40m\u001b[32m    \u001b[0m\r\n",
            "\r \u001b[36mnth_fibonacci.py\u001b[0m::test_11\u001b[0m \u001b[32m✓\u001b[0m                                      \u001b[32m61% \u001b[0m\u001b[40m\u001b[32m█\u001b[0m\u001b[40m\u001b[32m█\u001b[0m\u001b[40m\u001b[32m█\u001b[0m\u001b[40m\u001b[32m█\u001b[0m\u001b[40m\u001b[32m█\u001b[0m\u001b[40m\u001b[32m█\u001b[0m\u001b[40m\u001b[32m▎   \u001b[0m\r\n",
            "\r \u001b[36mnth_fibonacci.py\u001b[0m::test_12\u001b[0m \u001b[32m✓\u001b[0m                                      \u001b[32m67% \u001b[0m\u001b[40m\u001b[32m█\u001b[0m\u001b[40m\u001b[32m█\u001b[0m\u001b[40m\u001b[32m█\u001b[0m\u001b[40m\u001b[32m█\u001b[0m\u001b[40m\u001b[32m█\u001b[0m\u001b[40m\u001b[32m█\u001b[0m\u001b[40m\u001b[32m▋\u001b[0m\u001b[40m\u001b[32m   \u001b[0m\r\n",
            "\r \u001b[36mnth_fibonacci.py\u001b[0m::test_13\u001b[0m \u001b[32m✓\u001b[0m                                      \u001b[32m72% \u001b[0m\u001b[40m\u001b[32m█\u001b[0m\u001b[40m\u001b[32m█\u001b[0m\u001b[40m\u001b[32m█\u001b[0m\u001b[40m\u001b[32m█\u001b[0m\u001b[40m\u001b[32m█\u001b[0m\u001b[40m\u001b[32m█\u001b[0m\u001b[40m\u001b[32m█\u001b[0m\u001b[40m\u001b[32m▎  \u001b[0m\r\n",
            "\r \u001b[36mnth_fibonacci.py\u001b[0m::test_14\u001b[0m \u001b[32m✓\u001b[0m                                      \u001b[32m78% \u001b[0m\u001b[40m\u001b[32m█\u001b[0m\u001b[40m\u001b[32m█\u001b[0m\u001b[40m\u001b[32m█\u001b[0m\u001b[40m\u001b[32m█\u001b[0m\u001b[40m\u001b[32m█\u001b[0m\u001b[40m\u001b[32m█\u001b[0m\u001b[40m\u001b[32m█\u001b[0m\u001b[40m\u001b[32m▊\u001b[0m\u001b[40m\u001b[32m  \u001b[0m\r\n",
            "\r \u001b[36mnth_fibonacci.py\u001b[0m::test_15\u001b[0m \u001b[32m✓\u001b[0m                                      \u001b[32m83% \u001b[0m\u001b[40m\u001b[32m█\u001b[0m\u001b[40m\u001b[32m█\u001b[0m\u001b[40m\u001b[32m█\u001b[0m\u001b[40m\u001b[32m█\u001b[0m\u001b[40m\u001b[32m█\u001b[0m\u001b[40m\u001b[32m█\u001b[0m\u001b[40m\u001b[32m█\u001b[0m\u001b[40m\u001b[32m█\u001b[0m\u001b[40m\u001b[32m▍ \u001b[0m\r\n",
            "\r \u001b[36mnth_fibonacci.py\u001b[0m::test_16\u001b[0m \u001b[32m✓\u001b[0m                                      \u001b[32m89% \u001b[0m\u001b[40m\u001b[32m█\u001b[0m\u001b[40m\u001b[32m█\u001b[0m\u001b[40m\u001b[32m█\u001b[0m\u001b[40m\u001b[32m█\u001b[0m\u001b[40m\u001b[32m█\u001b[0m\u001b[40m\u001b[32m█\u001b[0m\u001b[40m\u001b[32m█\u001b[0m\u001b[40m\u001b[32m█\u001b[0m\u001b[40m\u001b[32m▉\u001b[0m\u001b[40m\u001b[32m \u001b[0m\r\n",
            "\r \u001b[36mnth_fibonacci.py\u001b[0m::test_17\u001b[0m \u001b[32m✓\u001b[0m                                      \u001b[32m94% \u001b[0m\u001b[40m\u001b[32m█\u001b[0m\u001b[40m\u001b[32m█\u001b[0m\u001b[40m\u001b[32m█\u001b[0m\u001b[40m\u001b[32m█\u001b[0m\u001b[40m\u001b[32m█\u001b[0m\u001b[40m\u001b[32m█\u001b[0m\u001b[40m\u001b[32m█\u001b[0m\u001b[40m\u001b[32m█\u001b[0m\u001b[40m\u001b[32m█\u001b[0m\u001b[40m\u001b[32m▌\u001b[0m\r\n",
            "\r \u001b[36mnth_fibonacci.py\u001b[0m::test_18\u001b[0m \u001b[32m✓\u001b[0m                                     \u001b[32m100% \u001b[0m\u001b[40m\u001b[32m█\u001b[0m\u001b[40m\u001b[32m█\u001b[0m\u001b[40m\u001b[32m█\u001b[0m\u001b[40m\u001b[32m█\u001b[0m\u001b[40m\u001b[32m█\u001b[0m\u001b[40m\u001b[32m█\u001b[0m\u001b[40m\u001b[32m█\u001b[0m\u001b[40m\u001b[32m█\u001b[0m\u001b[40m\u001b[32m█\u001b[0m\u001b[40m\u001b[32m█\u001b[0m\n",
            "\n",
            "Results (0.06s):\n",
            "\u001b[32m      18 passed\u001b[0m\n"
          ]
        }
      ]
    }
  ]
}