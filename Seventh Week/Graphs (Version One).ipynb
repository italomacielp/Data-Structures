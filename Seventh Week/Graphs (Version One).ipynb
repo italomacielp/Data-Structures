{
  "nbformat": 4,
  "nbformat_minor": 0,
  "metadata": {
    "colab": {
      "provenance": []
    },
    "kernelspec": {
      "name": "python3",
      "display_name": "Python 3"
    },
    "language_info": {
      "name": "python"
    }
  },
  "cells": [
    {
      "cell_type": "markdown",
      "source": [
        "<h1> Exercise Q&A (1,00 point for grade in Unit 02) </h1>"
      ],
      "metadata": {
        "id": "0MoT-pDvJcVZ"
      }
    },
    {
      "cell_type": "markdown",
      "source": [
        "<h2> Question 01 </h2>\n",
        "<p> Consider a network with N nodes. Given a single link, what is the maximum number of nodes that link can connect? Given a single node, what is the maximum number of links that can connect to that node? </p>\n"
      ],
      "metadata": {
        "id": "8d6ETM-dJtBI"
      }
    },
    {
      "cell_type": "markdown",
      "source": [
        "<strong> Answer: </strong>\n",
        "<i> <p> Considering that have an graph with single link, according definition: </p>\n",
        "<p> That one link can have two nodes. For case of the graph with single node, we apply the formula <strong> L<sub>Max.</sub> </strong> </p>\n",
        "<p> <strong> L<sub>Max</sub> </strong> = N * (N - 1) / 2 </p>\n",
        "<p> Replacing the number of nodes in N: <strong> L<sub>Max</sub> </strong>  = 1 * (1 - 1) / 2 = 0 </p>\n",
        "<p> i.e. in that case is necessary two nodes for have one link or more links </p> </i>"
      ],
      "metadata": {
        "id": "DOFYf4FxLcFX"
      }
    },
    {
      "cell_type": "markdown",
      "source": [
        "<h2> Question 02 </h2>\n",
        "<img src=\"https://camo.githubusercontent.com/3d7644e7aacc74ed1576bbd698c327f2be0c1c37c57124b6b9a180c458332e94/68747470733a2f2f64726976652e676f6f676c652e636f6d2f75633f6578706f72743d766965772669643d315934322d6333507131586f737a45457659735a46647233476363417170376c5f\">\n",
        "<p> <strong> Figure 1: </strong> Map of New York in 1880. From Report on the Social Statistics of Cities, Compiled by George E. Waring, Jr., U.S. Census Office, 1886. Image courtesy of University of Texas Libraries.\n",
        "Consider the road map in Figure 1. The grid-like structure of this network means that most nodes have the same degree. What is the most common degree for nodes in this network? </p>\n"
      ],
      "metadata": {
        "id": "0U7p3wERKD5y"
      }
    },
    {
      "cell_type": "markdown",
      "source": [
        "<h2> Question 03 </h2>\n",
        "<p> Consider the road map in Figure 1. Manhattan has a lot of one-way streets. This implies that a good network model of traffic flow would probably have directed links. Consider a subgraph of this network with grid-like connectivity and all one-way streets (i.e. each node is a four-way intersection of two one-way streets). What is the most common in-degree of nodes in this subgraph? What is the most common out-degree? </p>"
      ],
      "metadata": {
        "id": "VeL_OmjHSgwW"
      }
    },
    {
      "cell_type": "markdown",
      "source": [
        "<h2> Question 04 </h2>\n",
        "<p> What network quantity can we use to represent the volume of traffic between each pair of adjacent intersections in the Manhattan road map (Figure 1)? </p>"
      ],
      "metadata": {
        "id": "7TrZ-uY1SrgE"
      }
    },
    {
      "cell_type": "markdown",
      "source": [
        "<h2> Question 5 </h2>\n",
        "<p> Consider a directed network of N nodes. Now consider the total in-degree (i.e. the sum of the in-degree over all nodes in the network). Compare this to the analogous total out-degree. Which of the following must hold true for any such network?\n",
        "\n",
        "1. Total in-degree must be less than total out-degree\n",
        "2. Total in-degree must be greater than total out-degree\n",
        "3. Total in-degree must be equal to total out-degree\n",
        "4. None of these hold true in all instances\n",
        "</p>"
      ],
      "metadata": {
        "id": "JzdhYw-xS0Gm"
      }
    },
    {
      "cell_type": "markdown",
      "source": [
        "<h2> Question 6 </h2>\n",
        "<p> Consider a Twitter retweet network, where users are nodes and we want to show how many times a given user has retweeted another user. What link type best captures this relation? 1.   Undirected, unweighted 2.   Undirected, weighted 3.   Directed, unweighted 4.   Directed, weighted </p>"
      ],
      "metadata": {
        "id": "mkL3NjVKTBtz"
      }
    },
    {
      "cell_type": "markdown",
      "source": [
        "<strong> <p> Nesse caso um grafo direcionado e com peso é o mais adequado, pois o peso associado ao retweet que consequentemente seria a aresta entre os nós que representam os usuários, indicaria quantas ocorrências um usuário retuitou o outro. </p> </strong>"
      ],
      "metadata": {
        "id": "cv9CQNlh3LHc"
      }
    },
    {
      "cell_type": "markdown",
      "source": [
        "Question 7\n",
        "Consider a hashtag co-occurrence graph from Twitter. In this network, hashtags are the nodes, and a link between two hashtags indicates how often those two hashtags appear in tweets together. What link type would best capture this relation? 1.   Undirected, unweighted 2.   Undirected, weighted 3.   Directed, unweighted 4.   Directed, weighted"
      ],
      "metadata": {
        "id": "UUFK5A2ATPRz"
      }
    },
    {
      "cell_type": "markdown",
      "source": [
        "<strong> <p> Nesse caso um grafo não direcionado e ponderado é o mais adequado, a opção 2. Pois, a relação de ida e volta seria a mesma em relação a um tweet. </p> </strong>"
      ],
      "metadata": {
        "id": "w-btUZcE4IHx"
      }
    },
    {
      "cell_type": "markdown",
      "source": [
        "Question 8\n",
        "Consider a network created from characters in a story or play. The nodes are people, and a link exists between two nodes if those characters ever engage in dialogue. Which type of edge could represent this relation? Justify your answer. 1.   Undirected, unweighted 2.   Undirected, weighted 3.   Directed, unweighted 4.   Directed, weighted"
      ],
      "metadata": {
        "id": "tWuCNZjnTVqd"
      }
    },
    {
      "cell_type": "markdown",
      "source": [
        "<strong> <p> Como o link indica somente se o usuário do jogo dialogou com outro, é mais adequado utilizar um grafo não direcionado, não poderado. Pois a ligação já indicaria se houve um diálogo entre eles. Agora em uma situação, que indicaria o grau de relação entre eles, seria adequado utilizar um grafo não direcionado, ponderado, pois diferenciaria o quão um personagem é mais próximo do outro em relação aos demais existentes. </p> </strong>"
      ],
      "metadata": {
        "id": "9hy5S6GE4tTJ"
      }
    },
    {
      "cell_type": "markdown",
      "source": [
        "Question 9\n",
        "Suppose we want to make a more complex version of a dialog network that captures how much each character speaks and to whom. What type of link would best represent this relation? 1.   Undirected, unweighted 2.   Undirected, weighted 3.   Directed, unweighted 4.   Directed, weighted"
      ],
      "metadata": {
        "id": "EVzzP5zyTWcw"
      }
    },
    {
      "cell_type": "markdown",
      "source": [
        "<strong> <p> Seria adequado utilizar um grafo direcionado, para indicar para quem um personagem conversa com um determinado outro personagem, e ponderado para indicar o grau, ou quantidade de vezes que o personagem falou com outro, firmando uma relação maior caso tenha mais diálogos, e uma relação mais fraca para caso tenha pouco diálogo. </p> </strong>"
      ],
      "metadata": {
        "id": "ANKJOGzz5hJI"
      }
    },
    {
      "cell_type": "markdown",
      "source": [
        "Question 10\n",
        "Imagine that your social network has a subnetwork where you and 24 of your friends (25 people total) are all friends with each other. What is such a subnetwork called? And how many links are contained in the subnetwork?"
      ],
      "metadata": {
        "id": "omjqN7ZtTYl8"
      }
    },
    {
      "cell_type": "markdown",
      "source": [
        "Question 11\n",
        "Consider an undirected network with N nodes. What is the maximum number of links this network can have?"
      ],
      "metadata": {
        "id": "8d5qqlsRTa9V"
      }
    },
    {
      "cell_type": "markdown",
      "source": [
        "<strong> <p> Considerando que não tenha um link associado ao mesmo N<sub>i</sub> nó, então teremos (N - 1) no máximo relações possíveis. </p> </strong>"
      ],
      "metadata": {
        "id": "pgNNVBeR6m4b"
      }
    },
    {
      "cell_type": "markdown",
      "source": [
        "Question 12\n",
        "Consider a bipartite network of N nodes, \n",
        " nodes of type 1 and \n",
        " nodes of type 2 (so that \n",
        "). What is the maximum number of links in this network?"
      ],
      "metadata": {
        "id": "czGtqcHDTdlf"
      }
    },
    {
      "cell_type": "markdown",
      "source": [
        "Question 13 Given a complete network A with N nodes, and a bipartite network B also with N nodes, which of the following holds true for any \n",
        ": 1.   Network A has more links than network B 2.   Network A has the same number of links as network B 3.   Network A has fewer links than network B 4.   None of these hold true for all such "
      ],
      "metadata": {
        "id": "xS6XLuPDTgEp"
      }
    },
    {
      "cell_type": "markdown",
      "source": [
        "<h2> Question 14 </h2>\n",
        "<p> Consider this adjacency matrix: </p> \n",
        "<img src=\"https://camo.githubusercontent.com/e536fa8b88635370a8c04d86b77fc42a97e5003586a4b5b483f82ce34b75a607/68747470733a2f2f64726976652e676f6f676c652e636f6d2f75633f6578706f72743d766965772669643d316534414e71585f6b4a4350686e56697a76624b2d546f424a67725a4a70566465\" width=\"200\">\n",
        "<p> An entry in the ith row and jth column indicates the weight of the link from node i to node j. For instance, the entry in the second row and third column is 2, meaning the weight of the link from node B to node C is 2. What kind of network does this matrix represent? \n",
        "<ol>\n",
        "<li>   Undirected, unweighted </li>\n",
        "<li>   Undirected, weighted </li>\n",
        "<li>   Directed, unweighted </li>\n",
        "<li>   Directed, weighted </li>\n",
        "</ol> \n",
        "</p>"
      ],
      "metadata": {
        "id": "_A9KR05gToxD"
      }
    },
    {
      "cell_type": "markdown",
      "source": [
        "<h2> Question 15 </h2>\n",
        "<p> We have seen that Facebook’s network is incredibly sparse. Assume it has approximately 1 billion users, each with 1000 friends on average. </p>\n",
        "\n",
        "<ol>\n",
        " <li> Suppose Facebook releases its annual report and it shows that while the number of users in the network has stayed the same, the average number of friends per user has increased. Would this imply that the network density increased, decreased, or stayed the same? </li>\n",
        "<li> Suppose instead that both the number of users and the average number of friends per user doubled. Would this imply the network density increased, decreased, or stayed the same? </li>\n",
        "</ol>"
      ],
      "metadata": {
        "id": "PwHEfJ87UVZv"
      }
    },
    {
      "cell_type": "markdown",
      "source": [
        "<h2> Question 16 </h2>\n",
        "<p> Netflix keeps data on customer preferences using a big bipartite network connecting users to titles. Suppose that from 2021 to 2022 Netflix’s library has remained the same size, while the number of users has increased. Further suppose that the average user’s degree in this network has remained constant. Has the density of this network increased, decreased, or stayed the same? </p>"
      ],
      "metadata": {
        "id": "QMJKNlU5UneX"
      }
    },
    {
      "cell_type": "markdown",
      "source": [
        "<h1> Exercise - Hands On (1,00 point for grade in Unit 02) </h1>"
      ],
      "metadata": {
        "id": "x7-dy7ieJjfJ"
      }
    },
    {
      "cell_type": "markdown",
      "source": [
        "<h1> Exercise 1 </h1>\n",
        "<p> Often in the context of trees, a node with degree 1 is called a leaf. Write a function named get_leaves that takes a graph as an argument, loops through the nodes, and returns a list of nodes with degree 1. </p>"
      ],
      "metadata": {
        "id": "f9vrnWAw8w1Z"
      }
    },
    {
      "cell_type": "code",
      "source": [
        "import networkx as nx"
      ],
      "metadata": {
        "id": "DsJbNNwt6esr"
      },
      "execution_count": null,
      "outputs": []
    },
    {
      "cell_type": "code",
      "source": [
        "def get_leaves(G):\n",
        "  leaves = []\n",
        "  for node in G.nodes:\n",
        "    if G.degree(node) == 1:\n",
        "      leaves.append(node)\n",
        "  \n",
        "  return leaves"
      ],
      "metadata": {
        "id": "2rTgEgsK6VXU"
      },
      "execution_count": null,
      "outputs": []
    },
    {
      "cell_type": "code",
      "execution_count": null,
      "metadata": {
        "id": "ZoXwbCKJ6UZT"
      },
      "outputs": [],
      "source": [
        "# this block of code is only for networkx adapt it for graph-tool\n",
        "G = nx.Graph()\n",
        "G.add_edges_from([\n",
        "        ('a', 'b'),\n",
        "        ('a', 'd'),\n",
        "        ('c', 'd'),\n",
        "    ])\n",
        "assert set(get_leaves(G)) == {'c', 'b'}"
      ]
    },
    {
      "cell_type": "markdown",
      "source": [
        "<h1> Exercise 2 </h1>\n",
        "<p> Write a function max_degree that takes a graph as its argument, and returns a 2-tuple with the name and degree of the node with highest degree. </p>"
      ],
      "metadata": {
        "id": "_ZlGDG-C9LnF"
      }
    },
    {
      "cell_type": "code",
      "source": [
        "def max_degree(G):\n",
        "  node_max = None\n",
        "  degree_max = 0\n",
        "  for node in G.nodes:\n",
        "    if(G.degree(node) > degree_max):\n",
        "      node_max = node\n",
        "      degree_max = G.degree(node)\n",
        "  \n",
        "  two_tuple = (node_max, degree_max)\n",
        "  return two_tuple"
      ],
      "metadata": {
        "id": "2V3XCqC89jP9"
      },
      "execution_count": null,
      "outputs": []
    },
    {
      "cell_type": "code",
      "source": [
        "import gdown\n",
        "\n",
        "url = 'https://drive.google.com/uc?id=14AMuGDPHac7FOOr7Stw2Jh-l-IWb7n8D'\n",
        "output = 'friends.adjlist'\n",
        "gdown.download(url, output, quiet=False)\n",
        "     "
      ],
      "metadata": {
        "colab": {
          "base_uri": "https://localhost:8080/",
          "height": 105
        },
        "id": "N37zJTZY-MOF",
        "outputId": "e2c300e0-2da8-4e1b-a3fb-790466b4354b"
      },
      "execution_count": null,
      "outputs": [
        {
          "output_type": "stream",
          "name": "stderr",
          "text": [
            "Downloading...\n",
            "From: https://drive.google.com/uc?id=14AMuGDPHac7FOOr7Stw2Jh-l-IWb7n8D\n",
            "To: /content/friends.adjlist\n",
            "100%|██████████| 109/109 [00:00<00:00, 328kB/s]\n"
          ]
        },
        {
          "output_type": "execute_result",
          "data": {
            "text/plain": [
              "'friends.adjlist'"
            ],
            "application/vnd.google.colaboratory.intrinsic+json": {
              "type": "string"
            }
          },
          "metadata": {},
          "execution_count": 31
        }
      ]
    },
    {
      "cell_type": "code",
      "source": [
        "# this block of code is only for networkx adapt it for graph-tool\n",
        "SG = nx.read_adjlist('friends.adjlist')\n",
        "assert max_degree(SG) == ('Claire', 4)"
      ],
      "metadata": {
        "id": "Kg_YR6ZK-Qf5"
      },
      "execution_count": null,
      "outputs": []
    },
    {
      "cell_type": "markdown",
      "source": [
        "<h1> Exercise 3 </h1>\n",
        "<p> Write a function mutual_friends that takes a graph and two nodes as arguments, and returns a list (or set) of nodes that are linked to both given nodes. For example, in the graph SG drawn above,\n",
        "\n",
        "<center> <strong> mutual_friends(SG, 'Alice', 'Claire') == ['Frank'] </strong> </center>\n",
        "\n",
        "an empty list or set should be returned in the case where two nodes have no mutual friends, e.g. George and Bob in SG drawn above. </p>"
      ],
      "metadata": {
        "id": "LKWyitCuAc_9"
      }
    },
    {
      "cell_type": "code",
      "source": [
        "SG = nx.read_adjlist('friends.adjlist')"
      ],
      "metadata": {
        "id": "MZM9eiEYHGhQ"
      },
      "execution_count": null,
      "outputs": []
    },
    {
      "cell_type": "code",
      "source": [
        "adj_of_node_1 = SG.adj['Claire']"
      ],
      "metadata": {
        "id": "gxGutny2HCQX"
      },
      "execution_count": null,
      "outputs": []
    },
    {
      "cell_type": "code",
      "source": [
        "adj_of_node_2 = SG.adj['Alice']"
      ],
      "metadata": {
        "id": "Zgcw1dY3IIde"
      },
      "execution_count": null,
      "outputs": []
    },
    {
      "cell_type": "code",
      "source": [
        "print(adj_of_node_1)\n",
        "print(adj_of_node_2)\n",
        "for node in adj_of_node_2:\n",
        "  for node_2 in adj_of_node_1:\n",
        "    if node == node_2:\n",
        "      print(True)"
      ],
      "metadata": {
        "colab": {
          "base_uri": "https://localhost:8080/"
        },
        "id": "4Ft_lwsGHU64",
        "outputId": "e8e9063e-7323-4fc9-e399-d7f37ba7caf3"
      },
      "execution_count": null,
      "outputs": [
        {
          "output_type": "stream",
          "name": "stdout",
          "text": [
            "{'Dennis': {}, 'Frank': {}, 'Alice': {}, 'Esther': {}}\n",
            "{'Claire': {}, 'Bob': {}, 'Frank': {}}\n",
            "True\n"
          ]
        }
      ]
    },
    {
      "cell_type": "code",
      "source": [
        "def mutual_friends(G, node_1, node_2):\n",
        "  mutual_friends = []\n",
        "  \n",
        "  adj_of_node_1 = G.adj[node_1]\n",
        "  adj_of_node_2 = G.adj[node_2]\n",
        "\n",
        "  for node in adj_of_node_1:\n",
        "    for node_2 in adj_of_node_2:\n",
        "      if(node == node_2):\n",
        "        mutual_friends.append(node)\n",
        "  \n",
        "  return mutual_friends"
      ],
      "metadata": {
        "id": "JHvMA3bhBG95"
      },
      "execution_count": null,
      "outputs": []
    },
    {
      "cell_type": "code",
      "source": [
        "# this block of code is only for networkx adapt it for graph-tool\n",
        "SG = nx.read_adjlist('friends.adjlist')\n",
        "assert mutual_friends(SG, 'Alice', 'Claire') == ['Frank']\n",
        "assert mutual_friends(SG, 'George', 'Bob') == []\n",
        "assert sorted(mutual_friends(SG, 'Claire', 'George')) == ['Dennis', 'Frank']"
      ],
      "metadata": {
        "id": "_NBDccRPBH_8"
      },
      "execution_count": null,
      "outputs": []
    }
  ]
}