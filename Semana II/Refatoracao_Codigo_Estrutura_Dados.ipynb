{
  "nbformat": 4,
  "nbformat_minor": 0,
  "metadata": {
    "colab": {
      "provenance": []
    },
    "kernelspec": {
      "name": "python3",
      "display_name": "Python 3"
    },
    "language_info": {
      "name": "python"
    },
    "accelerator": "GPU",
    "gpuClass": "standard"
  },
  "cells": [
    {
      "cell_type": "markdown",
      "source": [
        "<h3> Importação de Bibliotecas </h3>\n",
        "\n"
      ],
      "metadata": {
        "id": "ZkX7g48dxTup"
      }
    },
    {
      "cell_type": "code",
      "execution_count": null,
      "metadata": {
        "id": "mAaxPhQ9wrTR"
      },
      "outputs": [],
      "source": [
        "from csv import reader"
      ]
    },
    {
      "cell_type": "markdown",
      "source": [
        "<h3> Função para abrir arquivo </h3>\n",
        "<p> Assim é possível utilizar o método em qualquer parte do código, reaproveitando a estrutura sem precisar repetir a lógica. </p>"
      ],
      "metadata": {
        "id": "qlCJguG1x8EO"
      }
    },
    {
      "cell_type": "code",
      "source": [
        "def open_file(filename):\n",
        "  opened_file = open(filename)\n",
        "  read_file = reader(opened_file)\n",
        "  to_list = ios = list(read_file)\n",
        "  return to_list\n",
        "\n",
        "to_list = open_file('googleplaystore.csv')\n"
      ],
      "metadata": {
        "id": "kL9agcZBx7A2"
      },
      "execution_count": null,
      "outputs": []
    },
    {
      "cell_type": "markdown",
      "source": [
        "<h3> Classe  </h3>\n",
        "<p> Essa classe serve para armazenar as informações salvas na lista. Cada coluna corresponde a um atributo </p>"
      ],
      "metadata": {
        "id": "WT_9UIEm6__k"
      }
    },
    {
      "cell_type": "code",
      "source": [
        "class FeaturesSystem:\n",
        "  def __init__(self, app, category, rating, reviews, size, installs, type_sys, price, content_rating, genres, last_updated, current_ver, android_ver):\n",
        "        self.app = app #Nome do aplicativo\n",
        "        self.category = category #Categoria\n",
        "        self.rating = rating #Posição\n",
        "        self.reviews = reviews #Avaliações\n",
        "        self.size = size #Tamanho\n",
        "        self.installs = installs #Quantidade de instalações\n",
        "        self.type_sys = type_sys #Tipo do sistema\n",
        "        self.price = price #Preço\n",
        "        self.content_rating = content_rating\n",
        "        self.genres = genres #Gênero\n",
        "        self.last_updated = last_updated #Última atualização\n",
        "        self.current_ver = current_ver #Versão atual\n",
        "        self.android_ver = android_ver #Versão android\n"
      ],
      "metadata": {
        "id": "2blZd1eh6_j_"
      },
      "execution_count": null,
      "outputs": []
    },
    {
      "cell_type": "markdown",
      "source": [
        "<h3> Visualização dos dados </h3>"
      ],
      "metadata": {
        "id": "3s7lMOIn9BgF"
      }
    },
    {
      "cell_type": "code",
      "source": [
        "systemType = to_list #Poderia ser usada a variável 'to_list' diretamente,\n",
        "#Porém armazenei em outra com intuito de generalizar o tipo de sistema que poderia ser abordado.\n",
        "\n",
        "def explore_data(dataset, start, end, rows_and_columns=False):\n",
        "    dataset_slice = dataset[start:end]    \n",
        "    for row in dataset_slice:\n",
        "        print(row, sep='\\n')\n",
        "        \n",
        "    if rows_and_columns:\n",
        "        print('Number of rows:', len(dataset))\n",
        "        print('Number of columns:', len(dataset[0]))\n",
        "\n",
        "explore_data(systemType, 0, 2, True)"
      ],
      "metadata": {
        "colab": {
          "base_uri": "https://localhost:8080/"
        },
        "id": "4_fsp1rc1Wgz",
        "outputId": "86e14c83-f6e7-4164-8d29-9a25f5692e04"
      },
      "execution_count": null,
      "outputs": [
        {
          "output_type": "stream",
          "name": "stdout",
          "text": [
            "['App', 'Category', 'Rating', 'Reviews', 'Size', 'Installs', 'Type', 'Price', 'Content Rating', 'Genres', 'Last Updated', 'Current Ver', 'Android Ver']\n",
            "['Photo Editor & Candy Camera & Grid & ScrapBook', 'ART_AND_DESIGN', '4.1', '159', '19M', '10,000+', 'Free', '0', 'Everyone', 'Art & Design', 'January 7, 2018', '1.0.0', '4.0.3 and up']\n",
            "Number of rows: 10842\n",
            "Number of columns: 13\n"
          ]
        }
      ]
    }
  ]
}