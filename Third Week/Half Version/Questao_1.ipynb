{
  "nbformat": 4,
  "nbformat_minor": 0,
  "metadata": {
    "colab": {
      "provenance": []
    },
    "kernelspec": {
      "name": "python3",
      "display_name": "Python 3"
    },
    "language_info": {
      "name": "python"
    },
    "gpuClass": "standard"
  },
  "cells": [
    {
      "cell_type": "markdown",
      "source": [
        "Questão 1"
      ],
      "metadata": {
        "id": "1R_ETnPxDikA"
      }
    },
    {
      "cell_type": "code",
      "source": [
        "!pip install pytest pytest-sugar"
      ],
      "metadata": {
        "colab": {
          "base_uri": "https://localhost:8080/"
        },
        "id": "uAiBL_8xIjch",
        "outputId": "5dcb374b-4e4d-4026-db82-c84a17ee02a8"
      },
      "execution_count": 1,
      "outputs": [
        {
          "output_type": "stream",
          "name": "stdout",
          "text": [
            "Looking in indexes: https://pypi.org/simple, https://us-python.pkg.dev/colab-wheels/public/simple/\n",
            "Requirement already satisfied: pytest in /usr/local/lib/python3.9/dist-packages (7.2.2)\n",
            "Collecting pytest-sugar\n",
            "  Downloading pytest_sugar-0.9.6-py2.py3-none-any.whl (9.1 kB)\n",
            "Requirement already satisfied: iniconfig in /usr/local/lib/python3.9/dist-packages (from pytest) (2.0.0)\n",
            "Requirement already satisfied: packaging in /usr/local/lib/python3.9/dist-packages (from pytest) (23.0)\n",
            "Requirement already satisfied: exceptiongroup>=1.0.0rc8 in /usr/local/lib/python3.9/dist-packages (from pytest) (1.1.1)\n",
            "Requirement already satisfied: attrs>=19.2.0 in /usr/local/lib/python3.9/dist-packages (from pytest) (22.2.0)\n",
            "Requirement already satisfied: tomli>=1.0.0 in /usr/local/lib/python3.9/dist-packages (from pytest) (2.0.1)\n",
            "Requirement already satisfied: pluggy<2.0,>=0.12 in /usr/local/lib/python3.9/dist-packages (from pytest) (1.0.0)\n",
            "Requirement already satisfied: termcolor>=1.1.0 in /usr/local/lib/python3.9/dist-packages (from pytest-sugar) (2.2.0)\n",
            "Installing collected packages: pytest-sugar\n",
            "Successfully installed pytest-sugar-0.9.6\n"
          ]
        }
      ]
    },
    {
      "cell_type": "code",
      "source": [
        "%%file linkedlist.py\n",
        "class Node:\n",
        "    \"\"\"A class representing a node in a doubly linked list.\"\"\"\n",
        "\n",
        "    def __init__(self, data):\n",
        "        \"\"\"Initialize a new node with the given data.\"\"\"\n",
        "        self.data = data\n",
        "        self.prev = None\n",
        "        self.next = None\n",
        "\n",
        "class LinkedList:\n",
        "    \"\"\"A class representing a doubly linked list.\"\"\"\n",
        "\n",
        "    def __init__(self):\n",
        "        \"\"\"Initialize an empty linked list.\"\"\"\n",
        "        self.head = None\n",
        "        self.tail = None\n",
        "        self.length = 0\n",
        "        \n",
        "    def append(self, data):\n",
        "        \"\"\"Add a new node with the given data to the end of the linked list.\"\"\"\n",
        "        new_node = Node(data)\n",
        "        if self.length == 0:\n",
        "            self.head = self.tail = new_node\n",
        "        else:\n",
        "            self.tail.next = new_node\n",
        "            new_node.prev = self.tail\n",
        "            self.tail = new_node\n",
        "        self.length += 1\n",
        "        \n",
        "    def __iter__(self):\n",
        "        \"\"\"Return an iterator for the linked list.\"\"\"\n",
        "        self._iter_node = self.head\n",
        "        return self \n",
        "    \n",
        "    def __next__(self):\n",
        "        \"\"\"Return the next value in the linked list.\"\"\"\n",
        "        if self._iter_node is None:\n",
        "            raise StopIteration\n",
        "        ret = self._iter_node.data\n",
        "        self._iter_node = self._iter_node.next\n",
        "        return ret\n",
        "    \n",
        "    def prepend(self, data):\n",
        "        \"\"\"Add a new node with the given data to the beginning of the linked list.\"\"\"\n",
        "        new_node = Node(data)\n",
        "        if self.length == 0:\n",
        "            self.head = self.tail = new_node\n",
        "        else:\n",
        "            self.head.prev = new_node\n",
        "            new_node.next = self.head\n",
        "            self.head = new_node\n",
        "        self.length += 1\n",
        "        \n",
        "    def __len__(self):\n",
        "        \"\"\"Return the length of the linked list.\"\"\"\n",
        "        return self.length\n",
        "    \n",
        "    def __str__(self):\n",
        "        \"\"\"Return a string representation of the linked list.\"\"\"\n",
        "        return str([value for value in self])\n",
        "\n",
        "    def __eq__(self, other):\n",
        "        \"\"\"Check if two linked lists are equal.\n",
        "\n",
        "        Traverse both linked lists and compare the data of each node. \n",
        "        If the data of all nodes in both linked lists match, return True. \n",
        "        Otherwise, return False.\n",
        "\n",
        "        Args:\n",
        "            other (LinkedList): The linked list to compare with self.\n",
        "\n",
        "        Returns:\n",
        "            bool: True if the linked lists are equal, False otherwise.\n",
        "        \"\"\"\n",
        "        # Check if the lengths of the linked lists are the same\n",
        "        if len(self) != len(other):\n",
        "            print(self,other)\n",
        "            return False\n",
        "        \n",
        "        # Iterate over both linked lists and compare the data of each node\n",
        "        for node1, node2 in zip(self, other):\n",
        "            if node1 != node2:\n",
        "                print(node1.data,node2.data)\n",
        "                return False\n",
        "        \n",
        "        # If we made it this far, the linked lists are equal\n",
        "        return True\n",
        "     \n",
        "    def __contains__(self, data):\n",
        "        curr_node = self.head\n",
        "        while curr_node is not None:\n",
        "            if curr_node.data == data:\n",
        "                return True\n",
        "            curr_node = curr_node.next\n",
        "        return False"
      ],
      "metadata": {
        "colab": {
          "base_uri": "https://localhost:8080/"
        },
        "id": "ur2_g255D5uo",
        "outputId": "5bb80a73-bd49-477b-c0a1-23a69270e35e"
      },
      "execution_count": 12,
      "outputs": [
        {
          "output_type": "stream",
          "name": "stdout",
          "text": [
            "Overwriting linkedlist.py\n"
          ]
        }
      ]
    },
    {
      "cell_type": "code",
      "source": [
        "import pytest\n",
        "from linkedlist import *\n",
        "\n",
        "def removeDuplicatesFromLinkedList(linkedList):\n",
        "\n",
        "    copy = LinkedList();\n",
        "    no_cabeca = linkedList.head\n",
        "\n",
        "    while(no_cabeca is not None):\n",
        "      if not copy.__contains__(no_cabeca.data):\n",
        "        copy.append(no_cabeca.data)\n",
        "\n",
        "      no_cabeca = no_cabeca.next\n",
        "\n",
        "    no_cabeca_aux = copy.head\n",
        "    index = 0\n",
        "    while(no_cabeca_aux is not None):\n",
        "      print(str(index) + \" \" + str(no_cabeca_aux.data))\n",
        "      index+=1\n",
        "\n",
        "      no_cabeca_aux = no_cabeca_aux.next\n",
        "\n",
        "my_list = LinkedList()\n",
        "my_list.append(1)\n",
        "my_list.append(2)\n",
        "my_list.append(2)\n",
        "my_list.append(3)\n",
        "my_list.append(3)\n",
        "\n",
        "print(my_list.__contains__(4))\n",
        "\n",
        "no = removeDuplicatesFromLinkedList(my_list)\n"
      ],
      "metadata": {
        "colab": {
          "base_uri": "https://localhost:8080/"
        },
        "id": "--NAOTyDO-RA",
        "outputId": "0d4a5e0d-2906-407c-dae8-d95d760265b1"
      },
      "execution_count": 27,
      "outputs": [
        {
          "output_type": "stream",
          "name": "stdout",
          "text": [
            "False\n",
            "0 1\n",
            "1 2\n",
            "2 3\n"
          ]
        }
      ]
    },
    {
      "cell_type": "code",
      "source": [
        "%%file test_remove_duplicaiton_from_linked_list_solution.py\n",
        "import pytest\n",
        "from linkedlist import *\n",
        "def removeDuplicatesFromLinkedList(linkedList):\n",
        "\n",
        "    copy = LinkedList();\n",
        "    no_cabeca = linkedList.head\n",
        "\n",
        "    while(no_cabeca is not None):\n",
        "      if not copy.__contains__(no_cabeca.data):\n",
        "        copy.append(no_cabeca.data)\n",
        "\n",
        "      no_cabeca = no_cabeca.next\n",
        "\n",
        "    \"\"\"\n",
        "    Modify the input doubly linked list in place to remove all nodes with duplicate values.\n",
        "    The modified linked list should still have its nodes sorted with respect to their values.\n",
        "  \n",
        "    Args:\n",
        "    linkedList (LinkedList): The sorted doubly linked list from which duplicate nodes will be removed.\n",
        "\n",
        "    Returns:\n",
        "        LinkedList: The modified linked list with duplicate nodes removed.\n",
        "    \"\"\"\n",
        "    return copy\n",
        "\n",
        "@pytest.fixture(scope=\"session\")\n",
        "def data():\n",
        "    \n",
        "    array = []\n",
        "    \n",
        "    # test 1 data\n",
        "    array.append([1,1,1,3,4,4,4,5,6,6])\n",
        "\n",
        "    # test 2 data\n",
        "    array.append([1,1,1,1,1,4,4,5,6,6])\n",
        "\n",
        "    # test 3 data\n",
        "    array.append([1,1,1,1,1,1,1])\n",
        "\n",
        "    # test 4 data\n",
        "    array.append([1,9,11,15,15,16,17])\n",
        "\n",
        "    # test 5 data\n",
        "    array.append([1])\n",
        "\n",
        "    # test 6 data\n",
        "    array.append([-5,-1,-1,-1,5,5,5,8,8,9,10,11,11])\n",
        "\n",
        "    # test 7 data\n",
        "    array.append([1,2,3,4,5,6,7,8,9,10,11,12,12])\n",
        "    \n",
        "    return array\n",
        "\n",
        "def test_1(data):\n",
        "    \"\"\"\n",
        "    Test evaluation for [1,1,1,3,4,4,4,5,6,6] \n",
        "    \"\"\"\n",
        "    linkedlist = LinkedList()\n",
        "    for item in data[0]:\n",
        "      linkedlist.append(item)\n",
        "\n",
        "    linkedlist_test = LinkedList()\n",
        "    for item in [1,3,4,5,6]:\n",
        "      linkedlist_test.append(item)\n",
        "\n",
        "    assert removeDuplicatesFromLinkedList(linkedlist) == linkedlist_test\n",
        "\n",
        "\n",
        "def test_2(data):\n",
        "    \"\"\"\n",
        "    Test evaluation for [1,1,1,1,1,4,4,5,6,6] \n",
        "    \"\"\"\n",
        "    linkedlist = LinkedList()\n",
        "    for item in data[1]:\n",
        "      linkedlist.append(item)\n",
        "\n",
        "    linkedlist_test = LinkedList()\n",
        "    for item in [1,4,5,6]:\n",
        "      linkedlist_test.append(item)\n",
        "\n",
        "    assert removeDuplicatesFromLinkedList(linkedlist) == linkedlist_test\n",
        "\n",
        "def test_3(data):\n",
        "    \"\"\"\n",
        "    Test evaluation for [1,1,1,1,1,1,1] \n",
        "    \"\"\"\n",
        "    linkedlist = LinkedList()\n",
        "    for item in data[2]:\n",
        "      linkedlist.append(item)\n",
        "\n",
        "    linkedlist_test = LinkedList()\n",
        "    for item in [1]:\n",
        "      linkedlist_test.append(item)\n",
        "\n",
        "    assert removeDuplicatesFromLinkedList(linkedlist) == linkedlist_test\n",
        "\n",
        "def test_4(data):\n",
        "    \"\"\"\n",
        "    Test evaluation for [1,9,11,15,15,16,17] \n",
        "    \"\"\"\n",
        "    linkedlist = LinkedList()\n",
        "    for item in data[3]:\n",
        "      linkedlist.append(item)\n",
        "\n",
        "    linkedlist_test = LinkedList()\n",
        "    for item in [1,9,11,15,16,17]:\n",
        "      linkedlist_test.append(item)\n",
        "\n",
        "    assert removeDuplicatesFromLinkedList(linkedlist) == linkedlist_test\n",
        "\n",
        "def test_5(data):\n",
        "    \"\"\"\n",
        "    Test evaluation for [1] \n",
        "    \"\"\"\n",
        "    linkedlist = LinkedList()\n",
        "    for item in data[4]:\n",
        "      linkedlist.append(item)\n",
        "\n",
        "    linkedlist_test = LinkedList()\n",
        "    for item in [1]:\n",
        "      linkedlist_test.append(item)\n",
        "\n",
        "    assert removeDuplicatesFromLinkedList(linkedlist) == linkedlist_test\n",
        "\n",
        "def test_6(data):\n",
        "    \"\"\"\n",
        "    Test evaluation for [-5,-1,-1,-1,5,5,5,8,8,9,10,11,11]\n",
        "    \"\"\"\n",
        "    linkedlist = LinkedList()\n",
        "    for item in data[5]:\n",
        "      linkedlist.append(item)\n",
        "\n",
        "    linkedlist_test = LinkedList()\n",
        "    for item in [-5,-1,5,8,9,10,11]:\n",
        "      linkedlist_test.append(item)\n",
        "\n",
        "    assert removeDuplicatesFromLinkedList(linkedlist) == linkedlist_test\n",
        "\n",
        "def test_7(data):\n",
        "    \"\"\"\n",
        "    Test evaluation for [1,2,3,4,5,6,7,8,9,10,11,12,12]\n",
        "    \"\"\"\n",
        "    linkedlist = LinkedList()\n",
        "    for item in data[6]:\n",
        "      linkedlist.append(item)\n",
        "\n",
        "    linkedlist_test = LinkedList()\n",
        "    for item in [1,2,3,4,5,6,7,8,9,10,11,12]:\n",
        "      linkedlist_test.append(item)\n",
        "\n",
        "    assert removeDuplicatesFromLinkedList(linkedlist) == linkedlist_test"
      ],
      "metadata": {
        "colab": {
          "base_uri": "https://localhost:8080/"
        },
        "id": "wQB2rRKzDsHl",
        "outputId": "ddec8ace-b931-4aa5-9f1e-28c52dc4dda2"
      },
      "execution_count": 28,
      "outputs": [
        {
          "output_type": "stream",
          "name": "stdout",
          "text": [
            "Overwriting test_remove_duplicaiton_from_linked_list_solution.py\n"
          ]
        }
      ]
    },
    {
      "cell_type": "code",
      "source": [
        "!pytest test_remove_duplicaiton_from_linked_list_solution.py -vv"
      ],
      "metadata": {
        "colab": {
          "base_uri": "https://localhost:8080/"
        },
        "id": "oL6ZNSyhP3lU",
        "outputId": "6eca16cd-1603-48e8-aa82-3492ad9f3a22"
      },
      "execution_count": 29,
      "outputs": [
        {
          "output_type": "stream",
          "name": "stdout",
          "text": [
            "\u001b[1mTest session starts (platform: linux, Python 3.9.16, pytest 7.2.2, pytest-sugar 0.9.6)\u001b[0m\n",
            "cachedir: .pytest_cache\n",
            "rootdir: /content\n",
            "plugins: sugar-0.9.6, anyio-3.6.2\n",
            "\u001b[1mcollecting ... \u001b[0m\r\n",
            "\r \u001b[36mtest_remove_duplicaiton_from_linked_list_solution.py\u001b[0m::test_1\u001b[0m \u001b[32m✓\u001b[0m   \u001b[32m14% \u001b[0m\u001b[40m\u001b[32m█\u001b[0m\u001b[40m\u001b[32m▌        \u001b[0m\r\n",
            "\r \u001b[36mtest_remove_duplicaiton_from_linked_list_solution.py\u001b[0m::test_2\u001b[0m \u001b[32m✓\u001b[0m   \u001b[32m29% \u001b[0m\u001b[40m\u001b[32m█\u001b[0m\u001b[40m\u001b[32m█\u001b[0m\u001b[40m\u001b[32m▉       \u001b[0m\r\n",
            "\r \u001b[36mtest_remove_duplicaiton_from_linked_list_solution.py\u001b[0m::test_3\u001b[0m \u001b[32m✓\u001b[0m   \u001b[32m43% \u001b[0m\u001b[40m\u001b[32m█\u001b[0m\u001b[40m\u001b[32m█\u001b[0m\u001b[40m\u001b[32m█\u001b[0m\u001b[40m\u001b[32m█▍     \u001b[0m\r\n",
            "\r \u001b[36mtest_remove_duplicaiton_from_linked_list_solution.py\u001b[0m::test_4\u001b[0m \u001b[32m✓\u001b[0m   \u001b[32m57% \u001b[0m\u001b[40m\u001b[32m█\u001b[0m\u001b[40m\u001b[32m█\u001b[0m\u001b[40m\u001b[32m█\u001b[0m\u001b[40m\u001b[32m█\u001b[0m\u001b[40m\u001b[32m█\u001b[0m\u001b[40m\u001b[32m▊    \u001b[0m\r\n",
            "\r \u001b[36mtest_remove_duplicaiton_from_linked_list_solution.py\u001b[0m::test_5\u001b[0m \u001b[32m✓\u001b[0m   \u001b[32m71% \u001b[0m\u001b[40m\u001b[32m█\u001b[0m\u001b[40m\u001b[32m█\u001b[0m\u001b[40m\u001b[32m█\u001b[0m\u001b[40m\u001b[32m█\u001b[0m\u001b[40m\u001b[32m█\u001b[0m\u001b[40m\u001b[32m█\u001b[0m\u001b[40m\u001b[32m█▎  \u001b[0m\r\n",
            "\r \u001b[36mtest_remove_duplicaiton_from_linked_list_solution.py\u001b[0m::test_6\u001b[0m \u001b[32m✓\u001b[0m   \u001b[32m86% \u001b[0m\u001b[40m\u001b[32m█\u001b[0m\u001b[40m\u001b[32m█\u001b[0m\u001b[40m\u001b[32m█\u001b[0m\u001b[40m\u001b[32m█\u001b[0m\u001b[40m\u001b[32m█\u001b[0m\u001b[40m\u001b[32m█\u001b[0m\u001b[40m\u001b[32m█\u001b[0m\u001b[40m\u001b[32m█\u001b[0m\u001b[40m\u001b[32m▋ \u001b[0m\r\n",
            "\r \u001b[36mtest_remove_duplicaiton_from_linked_list_solution.py\u001b[0m::test_7\u001b[0m \u001b[32m✓\u001b[0m  \u001b[32m100% \u001b[0m\u001b[40m\u001b[32m█\u001b[0m\u001b[40m\u001b[32m█\u001b[0m\u001b[40m\u001b[32m█\u001b[0m\u001b[40m\u001b[32m█\u001b[0m\u001b[40m\u001b[32m█\u001b[0m\u001b[40m\u001b[32m█\u001b[0m\u001b[40m\u001b[32m█\u001b[0m\u001b[40m\u001b[32m█\u001b[0m\u001b[40m\u001b[32m█\u001b[0m\u001b[40m\u001b[32m█\u001b[0m\n",
            "\n",
            "Results (0.07s):\n",
            "\u001b[32m       7 passed\u001b[0m\n"
          ]
        }
      ]
    }
  ]
}